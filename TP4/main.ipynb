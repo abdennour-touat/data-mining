{
 "cells": [
  {
   "cell_type": "code",
   "execution_count": 1,
   "metadata": {},
   "outputs": [],
   "source": [
    "import numpy as np\n",
    "import pandas as pd\n",
    "import matplotlib.pyplot as plt\n",
    "import math"
   ]
  },
  {
   "cell_type": "code",
   "execution_count": 2,
   "metadata": {},
   "outputs": [],
   "source": [
    "#read the data.csv file\n",
    "#read the csv file without pandas\n",
    "with open('data.csv') as f:\n",
    "    data = f.readlines()\n",
    "    data = [x.strip() for x in data]\n",
    "    data = [x.split(',') for x in data]\n",
    "#remove the first row\n",
    "data = np.delete(data, 0, 0)\n",
    "data = np.array(data)\n",
    "#get the first column\n",
    " "
   ]
  },
  {
   "cell_type": "code",
   "execution_count": 3,
   "metadata": {},
   "outputs": [
    {
     "name": "stdout",
     "output_type": "stream",
     "text": [
      "40 14 3\n",
      "Number of transactions:  40 \n",
      "Number of items:  57\n"
     ]
    }
   ],
   "source": [
    "#get the transactions and the items\n",
    "#get the distinct number of the values of each column\n",
    "#get the distinct number of the values of each row\n",
    "\n",
    "nbItems  = len(set(data[:,0])) + len(set(data[:,1]))+len(set(data[:,3]))\n",
    "print(len(set(data[:,0])),len(set(data[:,1])),len(set(data[:,3])))\n",
    "#group the data by the first column\n",
    "\n",
    "nbTransactions = np.unique(data[:,0]).size\n",
    "print('Number of transactions: ', nbTransactions, '\\nNumber of items: ', nbItems)"
   ]
  },
  {
   "cell_type": "code",
   "execution_count": 4,
   "metadata": {},
   "outputs": [
    {
     "name": "stdout",
     "output_type": "stream",
     "text": [
      "115\n",
      "[['Billy', '29', 'Nonprofits & Activism', 'hd'], ['Leila', '22', 'People & Blogs', 'sd'], ['Billy', '22', 'People & Blogs', 'sd'], ['Mark', '24', 'Entertainment', 'hd'], ['Billy', '24', 'Entertainment', 'hd'], ['Jane', '24', 'Entertainment', 'hd'], ['Babs', '22', 'People & Blogs', 'hd'], ['Jeff', '25', 'News & Politics', 'hd'], ['Babs', '22', 'People & Blogs'], ['Leila', '28', 'Science & Technology', 'hd'], ['Jane', '27', 'Education', 'hd'], ['Naomy', '22', 'People & Blogs', 'hd'], ['Jane', '22', 'People & Blogs'], ['Jane', '24', 'Entertainment', 'sd'], ['Mark', '22', 'People & Blogs', 'sd'], ['Flo', '28', 'Science & Technology', 'sd'], ['Phoebe', '28', 'Science & Technology', 'sd'], ['Jeff', '28', 'Science & Technology', 'sd'], ['Leila', '29', 'Nonprofits & Activism', 'sd'], ['Mark', '29', 'Nonprofits & Activism', 'hd'], ['Rachel', '22', 'People & Blogs', 'hd'], ['Naomy', '10', 'Music', 'hd'], ['Marie', '24', 'Entertainment', 'hd'], ['Ross', '25', 'News & Politics', 'hd'], ['Adam', '22', 'People & Blogs', 'hd'], ['Ben', '22', 'People & Blogs', 'sd'], ['Phoebe', '22', 'People & Blogs', 'hd'], ['Marie', '22', 'People & Blogs', 'hd'], ['Brad', '10', 'Music', 'sd'], ['Jess', '24', 'Entertainment', 'hd'], ['Jeff', '24', 'Entertainment', 'hd'], ['Mark', '27', 'Education', 'hd'], ['Brad', '28', 'Science & Technology', 'sd'], ['Ross', '27', 'Education', 'hd'], ['Cyrus', '28', 'Science & Technology', 'sd'], ['Monica', '28', 'Science & Technology', 'sd'], ['Cyrus', '19', 'Travel & Events'], ['Joey', '25', 'News & Politics', 'hd'], ['Mark', '22', 'People & Blogs', 'hd'], ['Leila', '1', 'Film & Animation', 'hd'], ['Naomy', '22', 'People & Blogs', 'hd'], ['Jeff', '25', 'News & Politics', 'hd'], ['Sloane', '29', 'Nonprofits & Activism', 'hd'], ['Sloane', '22', 'People & Blogs', 'hd'], ['Jeff', '27', 'Education', 'hd'], ['Brad', '22', 'People & Blogs', 'hd'], ['Jeff', '28', 'Science & Technology', 'sd'], ['Rachel', '28', 'Science & Technology', 'hd'], ['Natoo', '17', 'Sports', 'hd'], ['Ze', '28', 'Science & Technology', 'sd'], ['Sloane', '28', 'Science & Technology', 'hd'], ['Natoo', '22', 'People & Blogs', 'hd'], ['Rachel', '28', 'Science & Technology', 'sd'], ['Jess', '25', 'News & Politics', 'hd'], ['Ze', '22', 'People & Blogs', 'hd'], ['Liza', '22', 'People & Blogs', 'hd'], ['Ibra', '22', 'People & Blogs', 'hd'], ['Ibra', '22', 'People & Blogs', 'sd'], ['Naomy', '28', 'Science & Technology', 'hd'], ['Jeff', '20', 'Gaming', 'hd'], ['Mark', '29', 'Nonprofits & Activism', 'hd'], ['Leila', '23', 'Comedy', 'sd'], ['Natoo', '28', 'Science & Technology', 'sd'], ['Bob', '22', 'People & Blogs', 'hd'], ['Liza', '27', 'Education', 'hd'], ['Natoo', '27', 'Education', 'hd'], ['Natoo', '29', 'Nonprofits & Activism', 'sd'], ['Natoo', '25', 'News & Politics', 'sd'], ['Kat', '22', 'People & Blogs', 'sd'], ['Kat', '28', 'Science & Technology', 'sd'], ['Kat', '28', 'Science & Technology', 'hd'], ['Brad', '22', 'People & Blogs', 'hd'], ['Brad', '29', 'Nonprofits & Activism', 'hd'], ['Jess', '28', 'Science & Technology', 'sd'], ['Joey', '22', 'People & Blogs', 'hd'], ['Ibra', '22', 'People & Blogs', 'hd'], ['Bob', '28', 'Science & Technology', 'hd'], ['Ibra', '22', 'People & Blogs', 'hd'], ['Chandler', '28', 'Science & Technology', 'sd'], ['Alex', '22', 'People & Blogs', 'hd'], ['Alex', '22', 'People & Blogs', 'sd'], ['Jack', '28', 'Science & Technology', 'hd'], ['Jack', '22', 'People & Blogs', 'sd'], ['Jack', '28', 'Science & Technology', 'hd'], ['Naomy', '29', 'Nonprofits & Activism', 'hd'], ['Ibra', '22', 'People & Blogs', 'hd'], ['Penny', '22', 'People & Blogs', 'hd'], ['Squeezy', '29', 'Nonprofits & Activism', 'hd'], ['Joey', '24', 'Entertainment', 'hd'], ['Sheldon', '28', 'Science & Technology', 'hd'], ['Sheldon', '22', 'People & Blogs', 'sd'], ['Billy', '28', 'Science & Technology', 'hd'], ['Leonard', '22', 'People & Blogs', 'hd'], ['Amy', '22', 'People & Blogs', 'sd'], ['Squeezy', '28', 'Science & Technology', 'sd'], ['Howard', '22', 'People & Blogs', 'sd'], ['Radjesh', '28', 'Science & Technology', 'hd'], ['Seb', '28', 'Science & Technology', 'hd'], ['Seb', '28', 'Science & Technology', 'hd'], ['Radjesh', '22', 'People & Blogs', 'sd'], ['Squeezy', '28', 'Science & Technology', 'hd'], ['Squeezy', '22', 'People & Blogs', 'hd'], ['Sloane', '22', 'People & Blogs', 'hd'], ['Mark', '28', 'Science & Technology', 'hd'], ['Brad', '22', 'People & Blogs', 'hd'], ['Bob', '27', 'Education', 'sd'], ['Jess', '29', 'Nonprofits & Activism', 'hd'], ['Loan', '22', 'People & Blogs', 'sd'], ['Clark', '22', 'People & Blogs', 'hd'], ['Loan', '22', 'People & Blogs', 'hd'], ['Jeff', '24', 'Entertainment', 'hd'], ['Billy', '26', 'Howto & Style', 'sd'], ['Clark', '28', 'Science & Technology', 'hd'], ['Billy', '24', 'Entertainment', 'sd'], ['Squeezy', '27', 'Education', 'hd']]\n"
     ]
    }
   ],
   "source": [
    "def preprocessing(data):\n",
    "    #remove missing values\n",
    "    new_data = []\n",
    "    for transaction in data:\n",
    "        newTransaction = []\n",
    "        is_not_empty = True\n",
    "        for val in transaction:\n",
    "            if val == None or val == '' or val == 'nan':\n",
    "                continue\n",
    "            else:\n",
    "                newTransaction.append(val)\n",
    "        if len(newTransaction) > 0:\n",
    "            new_data.append(newTransaction)\n",
    "    return new_data\n",
    "clear_data = preprocessing(data)\n",
    "print(len(clear_data))\n",
    "\n",
    "print(clear_data)"
   ]
  },
  {
   "cell_type": "code",
   "execution_count": 5,
   "metadata": {},
   "outputs": [
    {
     "data": {
      "text/plain": [
       "['10sd',\n",
       " '29hd',\n",
       " '28hd',\n",
       " '20hd',\n",
       " '25sd',\n",
       " '17hd',\n",
       " '22sd',\n",
       " '10hd',\n",
       " '29sd',\n",
       " '26sd',\n",
       " '23sd',\n",
       " '1hd',\n",
       " '22hd',\n",
       " '24sd',\n",
       " '25hd',\n",
       " '24hd',\n",
       " '27hd',\n",
       " '27sd',\n",
       " '28sd']"
      ]
     },
     "execution_count": 5,
     "metadata": {},
     "output_type": "execute_result"
    }
   ],
   "source": [
    "#dataset2_bis\n",
    "def create_transactional(data):\n",
    "    new_data ={}\n",
    "    unique_items = []\n",
    "    for line1 in data :\n",
    "        new_data[line1[0]] = []\n",
    "        for line in data:\n",
    "            if len(line) == 4:\n",
    "                if line1[0] == line[0]:\n",
    "                    new_data[line1[0]].append(line[1]+(line[3]))\n",
    "                    new_item = line[1]+(line[3])\n",
    "                    unique_items.append(new_item)\n",
    "        new_data[line1[0]] = list(set(new_data[line1[0]]))\n",
    "    unique_items = list(set(unique_items))\n",
    "    return (new_data, unique_items)\n",
    "dataset2_bis, uniques = create_transactional(clear_data)\n",
    "dataset2_bis\n",
    "uniques"
   ]
  },
  {
   "cell_type": "code",
   "execution_count": 6,
   "metadata": {},
   "outputs": [
    {
     "name": "stdout",
     "output_type": "stream",
     "text": [
      "1\n"
     ]
    }
   ],
   "source": [
    "#support function\n",
    "def support(dataset, itemList:list):\n",
    "    support = 0\n",
    "    for key in dataset.keys():\n",
    "        exist = True\n",
    "        i = 0\n",
    "        while exist and i < len(itemList) :\n",
    "            if itemList[i] not in dataset[key]:\n",
    "                exist = False\n",
    "            i += 1\n",
    "        if exist:\n",
    "            support += 1\n",
    "    return support\n",
    "\n",
    "supp = support(dataset2_bis, ['22sd','28hd','23sd'])\n",
    "print(supp)"
   ]
  },
  {
   "cell_type": "code",
   "execution_count": 7,
   "metadata": {},
   "outputs": [
    {
     "name": "stdout",
     "output_type": "stream",
     "text": [
      "7\n"
     ]
    },
    {
     "ename": "UnboundLocalError",
     "evalue": "local variable 'candidats' referenced before assignment",
     "output_type": "error",
     "traceback": [
      "\u001b[0;31m---------------------------------------------------------------------------\u001b[0m",
      "\u001b[0;31mUnboundLocalError\u001b[0m                         Traceback (most recent call last)",
      "\u001b[1;32m/home/abdennour/M2/data-mining/TP4/main.ipynb Cell 7\u001b[0m line \u001b[0;36m4\n\u001b[1;32m     <a href='vscode-notebook-cell://wsl%2Bubuntu/home/abdennour/M2/data-mining/TP4/main.ipynb#W6sdnNjb2RlLXJlbW90ZQ%3D%3D?line=37'>38</a>\u001b[0m     \u001b[39mprint\u001b[39m(l)\n\u001b[1;32m     <a href='vscode-notebook-cell://wsl%2Bubuntu/home/abdennour/M2/data-mining/TP4/main.ipynb#W6sdnNjb2RlLXJlbW90ZQ%3D%3D?line=38'>39</a>\u001b[0m     \u001b[39mreturn\u001b[39;00m l\n\u001b[0;32m---> <a href='vscode-notebook-cell://wsl%2Bubuntu/home/abdennour/M2/data-mining/TP4/main.ipynb#W6sdnNjb2RlLXJlbW90ZQ%3D%3D?line=42'>43</a>\u001b[0m apriori(dataset2_bis,uniques,\u001b[39m0.2\u001b[39;49m)\n",
      "\u001b[1;32m/home/abdennour/M2/data-mining/TP4/main.ipynb Cell 7\u001b[0m line \u001b[0;36m2\n\u001b[1;32m     <a href='vscode-notebook-cell://wsl%2Bubuntu/home/abdennour/M2/data-mining/TP4/main.ipynb#W6sdnNjb2RlLXJlbW90ZQ%3D%3D?line=22'>23</a>\u001b[0m supps \u001b[39m=\u001b[39m \u001b[39m0\u001b[39m\n\u001b[1;32m     <a href='vscode-notebook-cell://wsl%2Bubuntu/home/abdennour/M2/data-mining/TP4/main.ipynb#W6sdnNjb2RlLXJlbW90ZQ%3D%3D?line=23'>24</a>\u001b[0m new_items \u001b[39m=\u001b[39m []\n\u001b[0;32m---> <a href='vscode-notebook-cell://wsl%2Bubuntu/home/abdennour/M2/data-mining/TP4/main.ipynb#W6sdnNjb2RlLXJlbW90ZQ%3D%3D?line=24'>25</a>\u001b[0m \u001b[39mfor\u001b[39;00m up \u001b[39min\u001b[39;00m candidats:\n\u001b[1;32m     <a href='vscode-notebook-cell://wsl%2Bubuntu/home/abdennour/M2/data-mining/TP4/main.ipynb#W6sdnNjb2RlLXJlbW90ZQ%3D%3D?line=25'>26</a>\u001b[0m     \u001b[39mif\u001b[39;00m support(dataset, \u001b[39mlist\u001b[39m(up)) \u001b[39m>\u001b[39m\u001b[39m=\u001b[39m supp_min:\n\u001b[1;32m     <a href='vscode-notebook-cell://wsl%2Bubuntu/home/abdennour/M2/data-mining/TP4/main.ipynb#W6sdnNjb2RlLXJlbW90ZQ%3D%3D?line=26'>27</a>\u001b[0m         supps \u001b[39m+\u001b[39m\u001b[39m=\u001b[39m \u001b[39m1\u001b[39m\n",
      "\u001b[0;31mUnboundLocalError\u001b[0m: local variable 'candidats' referenced before assignment"
     ]
    }
   ],
   "source": [
    "from itertools import combinations\n",
    "\n",
    "def create_candidats(dataset,items,n):\n",
    "\n",
    "    uples = list(combinations(items, n))\n",
    "    return uples\n",
    "def l(dataset2_bis, candidatas, supp_min):\n",
    "    l = []\n",
    "    if supp_min(dataset2_bis, candidatas) >= supp_min:\n",
    "        l.append(candidatas)\n",
    "    return l\n",
    "\n",
    "def apriori(dataset,items,sup_min):\n",
    "    l = []\n",
    "    supp_min = int(len(dataset)*sup_min)\n",
    "    print(supp_min)\n",
    "    stop = False\n",
    "    n = 1\n",
    "    # uples = list(zip(*[iter(items)]*n))\n",
    "    uples = create_candidats(dataset,items,n)\n",
    "    while not stop:\n",
    "        #create the n-uples strating from 1\n",
    "        supps = 0\n",
    "        new_items = []\n",
    "        for up in candidats:\n",
    "            if support(dataset, list(up)) >= supp_min:\n",
    "                supps += 1\n",
    "                l.append(up)\n",
    "            #update the new items where only the items with the support >= sup_min are kept\n",
    "                new_items.append(up)\n",
    "        items  = np.unique(np.array([item for tpl in new_items for item in tpl]))\n",
    "        candidats = []\n",
    "        candidats = create_candidats(dataset,items,n+1)\n",
    "        if supps == 0:\n",
    "            stop = True\n",
    "        else:\n",
    "            n += 1\n",
    "    print(l)\n",
    "    return l\n",
    "         \n",
    "\n",
    "                \n",
    "apriori(dataset2_bis,uniques,0.2)"
   ]
  },
  {
   "cell_type": "code",
   "execution_count": 8,
   "metadata": {},
   "outputs": [
    {
     "name": "stdout",
     "output_type": "stream",
     "text": [
      "[(['22sd'], ['28hd', '23sd']), (['28hd'], ['22sd', '23sd']), (['23sd'], ['22sd', '28hd']), (['22sd', '28hd'], ['23sd']), (['22sd', '23sd'], ['28hd']), (['28hd', '23sd'], ['22sd'])]\n"
     ]
    }
   ],
   "source": [
    "def regle_association(dataset, combination):\n",
    "    length = len(combination)\n",
    "    regles = []\n",
    "    for i in range(1, length):\n",
    "        combi = list(combinations(combination, i))\n",
    "        for c in combi:\n",
    "            c = list(c)\n",
    "            c2 = [x for x in combination if x not in c]\n",
    "            regles.append((c, c2))\n",
    "    print(regles)\n",
    "    return regles\n",
    "\n",
    "rules = regle_association(dataset2_bis, ['22sd','28hd','23sd'])\n",
    "\n",
    "    "
   ]
  },
  {
   "cell_type": "code",
   "execution_count": 16,
   "metadata": {},
   "outputs": [
    {
     "name": "stdout",
     "output_type": "stream",
     "text": [
      "['22sd', '28hd', '23sd']\n",
      "0.07692307692307693\n"
     ]
    }
   ],
   "source": [
    "def confiance(dataset,regle):\n",
    "    return (support(dataset,(regle[0]+regle[1])))/support(dataset,regle[0])\n",
    "print(confiance(dataset2_bis,rules[0]))"
   ]
  }
 ],
 "metadata": {
  "kernelspec": {
   "display_name": "Python 3",
   "language": "python",
   "name": "python3"
  },
  "language_info": {
   "codemirror_mode": {
    "name": "ipython",
    "version": 3
   },
   "file_extension": ".py",
   "mimetype": "text/x-python",
   "name": "python",
   "nbconvert_exporter": "python",
   "pygments_lexer": "ipython3",
   "version": "3.8.10"
  }
 },
 "nbformat": 4,
 "nbformat_minor": 2
}
