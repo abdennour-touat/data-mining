{
 "cells": [
  {
   "cell_type": "code",
   "execution_count": 348,
   "metadata": {},
   "outputs": [],
   "source": [
    "\n",
    "import numpy as np\n",
    "import pandas as pd\n",
    "import matplotlib.pyplot as plt\n",
    "import math"
   ]
  },
  {
   "cell_type": "code",
   "execution_count": 349,
   "metadata": {},
   "outputs": [
    {
     "data": {
      "text/html": [
       "<div>\n",
       "<style scoped>\n",
       "    .dataframe tbody tr th:only-of-type {\n",
       "        vertical-align: middle;\n",
       "    }\n",
       "\n",
       "    .dataframe tbody tr th {\n",
       "        vertical-align: top;\n",
       "    }\n",
       "\n",
       "    .dataframe thead th {\n",
       "        text-align: right;\n",
       "    }\n",
       "</style>\n",
       "<table border=\"1\" class=\"dataframe\">\n",
       "  <thead>\n",
       "    <tr style=\"text-align: right;\">\n",
       "      <th></th>\n",
       "      <th>0</th>\n",
       "      <th>1</th>\n",
       "      <th>2</th>\n",
       "      <th>3</th>\n",
       "    </tr>\n",
       "  </thead>\n",
       "  <tbody>\n",
       "    <tr>\n",
       "      <th>0</th>\n",
       "      <td>5.1</td>\n",
       "      <td>3.5</td>\n",
       "      <td>1.4</td>\n",
       "      <td>0.2</td>\n",
       "    </tr>\n",
       "    <tr>\n",
       "      <th>1</th>\n",
       "      <td>4.9</td>\n",
       "      <td>3.0</td>\n",
       "      <td>1.4</td>\n",
       "      <td>0.2</td>\n",
       "    </tr>\n",
       "    <tr>\n",
       "      <th>2</th>\n",
       "      <td>4.7</td>\n",
       "      <td>3.2</td>\n",
       "      <td>1.3</td>\n",
       "      <td>0.2</td>\n",
       "    </tr>\n",
       "    <tr>\n",
       "      <th>3</th>\n",
       "      <td>4.6</td>\n",
       "      <td>3.1</td>\n",
       "      <td>1.5</td>\n",
       "      <td>0.2</td>\n",
       "    </tr>\n",
       "    <tr>\n",
       "      <th>4</th>\n",
       "      <td>5.0</td>\n",
       "      <td>3.6</td>\n",
       "      <td>1.4</td>\n",
       "      <td>0.2</td>\n",
       "    </tr>\n",
       "    <tr>\n",
       "      <th>...</th>\n",
       "      <td>...</td>\n",
       "      <td>...</td>\n",
       "      <td>...</td>\n",
       "      <td>...</td>\n",
       "    </tr>\n",
       "    <tr>\n",
       "      <th>145</th>\n",
       "      <td>6.7</td>\n",
       "      <td>3.0</td>\n",
       "      <td>5.2</td>\n",
       "      <td>2.3</td>\n",
       "    </tr>\n",
       "    <tr>\n",
       "      <th>146</th>\n",
       "      <td>6.3</td>\n",
       "      <td>2.5</td>\n",
       "      <td>5.0</td>\n",
       "      <td>1.9</td>\n",
       "    </tr>\n",
       "    <tr>\n",
       "      <th>147</th>\n",
       "      <td>6.5</td>\n",
       "      <td>3.0</td>\n",
       "      <td>5.2</td>\n",
       "      <td>2.0</td>\n",
       "    </tr>\n",
       "    <tr>\n",
       "      <th>148</th>\n",
       "      <td>6.2</td>\n",
       "      <td>3.4</td>\n",
       "      <td>5.4</td>\n",
       "      <td>2.3</td>\n",
       "    </tr>\n",
       "    <tr>\n",
       "      <th>149</th>\n",
       "      <td>5.9</td>\n",
       "      <td>3.0</td>\n",
       "      <td>5.1</td>\n",
       "      <td>1.8</td>\n",
       "    </tr>\n",
       "  </tbody>\n",
       "</table>\n",
       "<p>150 rows × 4 columns</p>\n",
       "</div>"
      ],
      "text/plain": [
       "       0    1    2    3\n",
       "0    5.1  3.5  1.4  0.2\n",
       "1    4.9  3.0  1.4  0.2\n",
       "2    4.7  3.2  1.3  0.2\n",
       "3    4.6  3.1  1.5  0.2\n",
       "4    5.0  3.6  1.4  0.2\n",
       "..   ...  ...  ...  ...\n",
       "145  6.7  3.0  5.2  2.3\n",
       "146  6.3  2.5  5.0  1.9\n",
       "147  6.5  3.0  5.2  2.0\n",
       "148  6.2  3.4  5.4  2.3\n",
       "149  5.9  3.0  5.1  1.8\n",
       "\n",
       "[150 rows x 4 columns]"
      ]
     },
     "execution_count": 349,
     "metadata": {},
     "output_type": "execute_result"
    }
   ],
   "source": [
    "df = pd.read_csv('dataset.txt', header=None)\n",
    "#remove the last column\n",
    "df = df.iloc[:, :-1]\n",
    "df"
   ]
  },
  {
   "cell_type": "code",
   "execution_count": 350,
   "metadata": {},
   "outputs": [],
   "source": [
    "\n",
    "def manhattan(A, B):\n",
    "    return np.sum(np.abs(A - B))"
   ]
  },
  {
   "cell_type": "code",
   "execution_count": 351,
   "metadata": {},
   "outputs": [],
   "source": [
    "\n",
    "def euclidean(A, B):\n",
    "    return np.sqrt(np.sum((A - B) ** 2))"
   ]
  },
  {
   "cell_type": "code",
   "execution_count": 352,
   "metadata": {},
   "outputs": [],
   "source": [
    "\n",
    "def minkowski(A, B,p=3):\n",
    "    return np.sum(np.abs(A - B) ** p) ** (1 / p)"
   ]
  },
  {
   "cell_type": "code",
   "execution_count": 353,
   "metadata": {},
   "outputs": [],
   "source": [
    "\n",
    "def cosine(A, B):\n",
    "    nom = np.sum(A * B)\n",
    "    denom = np.sqrt(np.sum(np.power(A,2) )) * np.sqrt(np.sum(np.power(B,2) ))\n",
    "    return 1 - (nom / denom)"
   ]
  },
  {
   "cell_type": "code",
   "execution_count": 354,
   "metadata": {},
   "outputs": [],
   "source": [
    "def hamming(A,B):\n",
    "    #hamming distance is the number of positions at which the corresponding symbols are different\n",
    "    return np.sum(A != B)"
   ]
  },
  {
   "cell_type": "code",
   "execution_count": 355,
   "metadata": {},
   "outputs": [],
   "source": [
    "\n",
    "def sort(data,new_instance, distance):\n",
    "    # return sorted(data, key=lambda x: distance(x[0], x[1]))\n",
    "    d = []\n",
    "    for i,x in enumerate(data):\n",
    "        d.append([i, distance(x, new_instance)])\n",
    "    d = sorted(d, key=lambda x: x[1])\n",
    "    return d"
   ]
  },
  {
   "cell_type": "code",
   "execution_count": 356,
   "metadata": {},
   "outputs": [],
   "source": [
    "class Kmeans:\n",
    "    def __init__(self,k,dataset) -> None:\n",
    "        self.k = k\n",
    "        self.dataset = dataset\n",
    "        self.dataset = self.dataset.sample(frac=1).reset_index(drop=True)\n",
    "    def generate_cluster(self,distanceFn,centroids=None):\n",
    "        if centroids is None:\n",
    "            print('none')\n",
    "            #pick k random points\n",
    "            #shuffle dataset\n",
    "            centroids = self.dataset.sample(n=self.k ,random_state=1)\n",
    "            #converr the centroids to a list\n",
    "            centroids = centroids.values.tolist()\n",
    "            print(centroids)\n",
    "            #calculate distance to each point for every centroid\n",
    "        distances  = {}\n",
    "        for c in range(self.k):\n",
    "            distances[c] = []\n",
    "        for i,val in self.dataset.iterrows():\n",
    "            dists = []\n",
    "            for c in range(self.k):\n",
    "                dists.append([c,np.array(val),distanceFn(val,centroids[c])])\n",
    "            #get the closest centroid\n",
    "            dists = sorted(dists,key=lambda x: x[2])\n",
    "            min_dist = dists[0]\n",
    "            distances[min_dist[0]].append(min_dist[1:])\n",
    "        return distances,centroids\n",
    "\n",
    "    def cluster(self,distanceFn,max_iter=100):\n",
    "        distances, centroids = self.generate_cluster(distanceFn)\n",
    "        #calculate new centroids\n",
    "        repeat = True\n",
    "        nb_iter   =0\n",
    "        while repeat:\n",
    "            c_centroids = []\n",
    "            for k in distances.keys():\n",
    "                #get the values from the second column\n",
    "                vals = [x[0] for x in distances[k]]\n",
    "                vals = np.array(vals)\n",
    "                c_centroids.append(np.mean(np.array(vals),axis=0))\n",
    "            #calculate the distances for the new centroids\n",
    "            new_distances,_ = self.generate_cluster(distanceFn,c_centroids)\n",
    "            #check if the valus in the column 1 are the same\n",
    "            for k in distances.keys():\n",
    "                # print('k: ',k)\n",
    "                vals = [x[0] for x in distances[k]]\n",
    "                new_vals = [x[0] for x in new_distances[k]]\n",
    "                # print('old ',vals)\n",
    "                # print('new ',new_vals)\n",
    "                if np.array_equal(np.array(vals,dtype=object),np.array(new_vals,dtype=object)):\n",
    "                    repeat = False\n",
    "            if repeat or nb_iter > max_iter:\n",
    "                nb_iter += 1\n",
    "                print('rep')\n",
    "                distances = new_distances\n",
    "                centroids = c_centroids\n",
    "        return distances, centroids\n"
   ]
  },
  {
   "cell_type": "code",
   "execution_count": 357,
   "metadata": {},
   "outputs": [
    {
     "name": "stdout",
     "output_type": "stream",
     "text": [
      "none\n",
      "[[5.6, 3.0, 4.1, 1.3], [5.7, 3.8, 1.7, 0.3], [5.9, 3.0, 5.1, 1.8], [6.2, 2.2, 4.5, 1.5], [6.0, 2.2, 4.0, 1.0], [6.3, 2.7, 4.9, 1.8], [4.8, 3.0, 1.4, 0.1]]\n"
     ]
    },
    {
     "name": "stdout",
     "output_type": "stream",
     "text": [
      "rep\n",
      "rep\n",
      "rep\n",
      "none\n",
      "[[6.7, 3.1, 5.6, 2.4], [5.6, 2.9, 3.6, 1.3], [5.6, 2.5, 3.9, 1.1], [4.8, 3.1, 1.6, 0.2], [5.7, 2.8, 4.5, 1.3], [5.0, 3.4, 1.6, 0.4], [6.2, 2.2, 4.5, 1.5]]\n",
      "rep\n",
      "none\n",
      "[[5.2, 3.4, 1.4, 0.2], [6.7, 3.3, 5.7, 2.5], [5.1, 3.5, 1.4, 0.3], [5.7, 2.6, 3.5, 1.0], [5.9, 3.0, 5.1, 1.8], [5.4, 3.7, 1.5, 0.2], [6.1, 3.0, 4.9, 1.8]]\n",
      "rep\n"
     ]
    },
    {
     "name": "stderr",
     "output_type": "stream",
     "text": [
      "/home/abdennour/.local/lib/python3.8/site-packages/numpy/core/fromnumeric.py:3432: RuntimeWarning: Mean of empty slice.\n",
      "  return _methods._mean(a, axis=axis, dtype=dtype,\n",
      "/home/abdennour/.local/lib/python3.8/site-packages/numpy/core/_methods.py:190: RuntimeWarning: invalid value encountered in double_scalars\n",
      "  ret = ret.dtype.type(ret / rcount)\n"
     ]
    },
    {
     "name": "stdout",
     "output_type": "stream",
     "text": [
      "none\n",
      "[[4.4, 2.9, 1.4, 0.2], [6.9, 3.2, 5.7, 2.3], [6.7, 3.1, 4.7, 1.5], [5.0, 3.5, 1.6, 0.6], [6.3, 3.3, 6.0, 2.5], [6.4, 3.1, 5.5, 1.8], [7.9, 3.8, 6.4, 2.0]]\n",
      "rep\n",
      "rep\n",
      "none\n",
      "[[6.5, 3.2, 5.1, 2.0], [5.7, 2.8, 4.1, 1.3], [6.8, 2.8, 4.8, 1.4], [6.8, 3.0, 5.5, 2.1], [5.0, 3.2, 1.2, 0.2], [6.3, 2.3, 4.4, 1.3], [5.6, 2.7, 4.2, 1.3]]\n",
      "[[6.5, 3.2, 5.1, 2.0], [5.7, 2.8, 4.1, 1.3], [6.8, 2.8, 4.8, 1.4], [6.8, 3.0, 5.5, 2.1], [5.0, 3.2, 1.2, 0.2], [6.3, 2.3, 4.4, 1.3], [5.6, 2.7, 4.2, 1.3]]\n"
     ]
    }
   ],
   "source": [
    "k = 7\n",
    "kmeans = Kmeans(k,df)\n",
    "res_cos, centroids = kmeans.cluster(cosine)\n",
    "kmeans = Kmeans(k,df)\n",
    "res_euc, centroids = kmeans.cluster(euclidean)\n",
    "kmeans = Kmeans(k,df)\n",
    "res_ham, centroids = kmeans.cluster(hamming)\n",
    "kmeans = Kmeans(k,df)\n",
    "res_mink, centroids = kmeans.cluster(minkowski)\n",
    "kmeans = Kmeans(k,df)\n",
    "res_man, centroids = kmeans.cluster(manhattan)\n",
    "print(centroids)"
   ]
  },
  {
   "cell_type": "code",
   "execution_count": 358,
   "metadata": {},
   "outputs": [],
   "source": [
    "def score(instance,res,centroids,distanceFn):\n",
    "    for k in res.keys():\n",
    "        #search the cluster for the instance\n",
    "        for x in res[k]:\n",
    "            if np.array_equal(x[0],instance):\n",
    "                i = k\n",
    "    moy = 0\n",
    "    for x in res[i]:\n",
    "        if not np.array_equal(x[0],instance):\n",
    "            moy += distanceFn(instance,x[0])\n",
    "    moy /= len(res[i])-1\n",
    "    return moy"
   ]
  },
  {
   "cell_type": "code",
   "execution_count": 359,
   "metadata": {},
   "outputs": [
    {
     "name": "stdout",
     "output_type": "stream",
     "text": [
      "score:  3.5714285714285716\n"
     ]
    }
   ],
   "source": [
    "point = [5.4,3.9, 1.3,0.4]\n",
    "\n",
    "print('score: ',score(point,res_cos,centroids,hamming))"
   ]
  },
  {
   "cell_type": "code",
   "execution_count": 360,
   "metadata": {},
   "outputs": [],
   "source": [
    "def score_cluster(instance,res,centroids,distanceFn):\n",
    "    for k in res.keys():\n",
    "        #search the cluster for the instance\n",
    "        for x in res[k]:\n",
    "            if np.array_equal(x[0],instance):\n",
    "                i = k\n",
    "    moys = []\n",
    "    for k in res.keys():\n",
    "        if k != i:\n",
    "            moy = 0\n",
    "            for x in res[k]:\n",
    "                moy += distanceFn(instance,x[0])\n",
    "            moy /= len(res[k])\n",
    "            moys.append([k,moy])\n",
    "    min_moy = sorted(moys,key=lambda x: x[1])\n",
    "\n",
    "    return min_moy[0][1]"
   ]
  },
  {
   "cell_type": "code",
   "execution_count": 361,
   "metadata": {},
   "outputs": [
    {
     "name": "stdout",
     "output_type": "stream",
     "text": [
      "score:  3.761904761904762\n"
     ]
    }
   ],
   "source": [
    "point = [5.4,3.9, 1.3,0.4]\n",
    "\n",
    "print('score: ',score_cluster(point,res_cos,centroids,hamming))"
   ]
  },
  {
   "cell_type": "code",
   "execution_count": 362,
   "metadata": {},
   "outputs": [],
   "source": [
    "def silhouette(instance,res,centroids,distanceFn):\n",
    "    a = score(instance,res,centroids,distanceFn)\n",
    "    b = score_cluster(instance,res,centroids,distanceFn)\n",
    "    return (b-a)/max(a,b)"
   ]
  },
  {
   "cell_type": "code",
   "execution_count": 363,
   "metadata": {},
   "outputs": [
    {
     "name": "stdout",
     "output_type": "stream",
     "text": [
      "silhouette:  0.050632911392405\n"
     ]
    }
   ],
   "source": [
    "\n",
    "point = [5.4,3.9, 1.3,0.4]\n",
    "print('silhouette: ',silhouette(point,res_cos,centroids,hamming))"
   ]
  },
  {
   "cell_type": "code",
   "execution_count": 364,
   "metadata": {},
   "outputs": [],
   "source": [
    "def silhouette_global(res,centroids,distanceFn):\n",
    "    sil = []\n",
    "    for k in res.keys():\n",
    "        for x in res[k]:\n",
    "            sil.append(silhouette(x[0],res,centroids,distanceFn))\n",
    "    return np.mean(sil)"
   ]
  },
  {
   "cell_type": "code",
   "execution_count": 365,
   "metadata": {},
   "outputs": [
    {
     "name": "stdout",
     "output_type": "stream",
     "text": [
      "silhouette global manhattan:  0.3720101054493736\n",
      "silhouette global minkowski:  0.30094678778120887\n",
      "silhouette global cosine:  0.4609781919227684\n",
      "silhouette global euclidean:  0.28657978493630965\n"
     ]
    }
   ],
   "source": [
    "print('silhouette global manhattan: ',silhouette_global(res_man,centroids,manhattan))\n",
    "print('silhouette global minkowski: ',silhouette_global(res_mink,centroids,minkowski))\n",
    "print('silhouette global cosine: ',silhouette_global(res_cos,centroids,cosine))\n",
    "# print('silhouette global hamming: ',silhouette_global(res_ham,centroids,hamming))\n",
    "print('silhouette global euclidean: ',silhouette_global(res_euc,centroids,euclidean))"
   ]
  },
  {
   "cell_type": "code",
   "execution_count": 366,
   "metadata": {},
   "outputs": [],
   "source": [
    "from sklearn.metrics import silhouette_score\n"
   ]
  },
  {
   "cell_type": "code",
   "execution_count": null,
   "metadata": {},
   "outputs": [],
   "source": []
  }
 ],
 "metadata": {
  "kernelspec": {
   "display_name": "Python 3",
   "language": "python",
   "name": "python3"
  },
  "language_info": {
   "codemirror_mode": {
    "name": "ipython",
    "version": 3
   },
   "file_extension": ".py",
   "mimetype": "text/x-python",
   "name": "python",
   "nbconvert_exporter": "python",
   "pygments_lexer": "ipython3",
   "version": "3.8.10"
  }
 },
 "nbformat": 4,
 "nbformat_minor": 2
}
