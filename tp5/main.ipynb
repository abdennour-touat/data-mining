{
 "cells": [
  {
   "cell_type": "code",
   "execution_count": 1,
   "metadata": {},
   "outputs": [],
   "source": [
    "import numpy as np\n",
    "import pandas as pd\n",
    "import matplotlib.pyplot as plt\n",
    "import math"
   ]
  },
  {
   "cell_type": "code",
   "execution_count": 2,
   "metadata": {},
   "outputs": [],
   "source": [
    "\n",
    "def chargerData(path):\n",
    "    data = []\n",
    "    with open(path, \"r\") as file:\n",
    "        for line in file:\n",
    "            data.append(line.split(\",\"))\n",
    "    return data\n",
    "\n",
    "\n",
    "def classifyData(data):\n",
    "    newData = np.array(data)\n",
    "    #remove the last column\n",
    "    newData = newData[:, :-1]\n",
    "    return newData[:-1].astype(\"float\")"
   ]
  },
  {
   "cell_type": "code",
   "execution_count": 3,
   "metadata": {},
   "outputs": [
    {
     "data": {
      "text/html": [
       "<div>\n",
       "<style scoped>\n",
       "    .dataframe tbody tr th:only-of-type {\n",
       "        vertical-align: middle;\n",
       "    }\n",
       "\n",
       "    .dataframe tbody tr th {\n",
       "        vertical-align: top;\n",
       "    }\n",
       "\n",
       "    .dataframe thead th {\n",
       "        text-align: right;\n",
       "    }\n",
       "</style>\n",
       "<table border=\"1\" class=\"dataframe\">\n",
       "  <thead>\n",
       "    <tr style=\"text-align: right;\">\n",
       "      <th></th>\n",
       "      <th>0</th>\n",
       "      <th>1</th>\n",
       "      <th>2</th>\n",
       "      <th>3</th>\n",
       "    </tr>\n",
       "  </thead>\n",
       "  <tbody>\n",
       "    <tr>\n",
       "      <th>0</th>\n",
       "      <td>5.1</td>\n",
       "      <td>3.5</td>\n",
       "      <td>1.4</td>\n",
       "      <td>0.2</td>\n",
       "    </tr>\n",
       "    <tr>\n",
       "      <th>1</th>\n",
       "      <td>4.9</td>\n",
       "      <td>3.0</td>\n",
       "      <td>1.4</td>\n",
       "      <td>0.2</td>\n",
       "    </tr>\n",
       "    <tr>\n",
       "      <th>2</th>\n",
       "      <td>4.7</td>\n",
       "      <td>3.2</td>\n",
       "      <td>1.3</td>\n",
       "      <td>0.2</td>\n",
       "    </tr>\n",
       "    <tr>\n",
       "      <th>3</th>\n",
       "      <td>4.6</td>\n",
       "      <td>3.1</td>\n",
       "      <td>1.5</td>\n",
       "      <td>0.2</td>\n",
       "    </tr>\n",
       "    <tr>\n",
       "      <th>4</th>\n",
       "      <td>5.0</td>\n",
       "      <td>3.6</td>\n",
       "      <td>1.4</td>\n",
       "      <td>0.2</td>\n",
       "    </tr>\n",
       "    <tr>\n",
       "      <th>...</th>\n",
       "      <td>...</td>\n",
       "      <td>...</td>\n",
       "      <td>...</td>\n",
       "      <td>...</td>\n",
       "    </tr>\n",
       "    <tr>\n",
       "      <th>144</th>\n",
       "      <td>6.7</td>\n",
       "      <td>3.3</td>\n",
       "      <td>5.7</td>\n",
       "      <td>2.5</td>\n",
       "    </tr>\n",
       "    <tr>\n",
       "      <th>145</th>\n",
       "      <td>6.7</td>\n",
       "      <td>3.0</td>\n",
       "      <td>5.2</td>\n",
       "      <td>2.3</td>\n",
       "    </tr>\n",
       "    <tr>\n",
       "      <th>146</th>\n",
       "      <td>6.3</td>\n",
       "      <td>2.5</td>\n",
       "      <td>5.0</td>\n",
       "      <td>1.9</td>\n",
       "    </tr>\n",
       "    <tr>\n",
       "      <th>147</th>\n",
       "      <td>6.5</td>\n",
       "      <td>3.0</td>\n",
       "      <td>5.2</td>\n",
       "      <td>2.0</td>\n",
       "    </tr>\n",
       "    <tr>\n",
       "      <th>148</th>\n",
       "      <td>6.2</td>\n",
       "      <td>3.4</td>\n",
       "      <td>5.4</td>\n",
       "      <td>2.3</td>\n",
       "    </tr>\n",
       "  </tbody>\n",
       "</table>\n",
       "<p>149 rows × 4 columns</p>\n",
       "</div>"
      ],
      "text/plain": [
       "       0    1    2    3\n",
       "0    5.1  3.5  1.4  0.2\n",
       "1    4.9  3.0  1.4  0.2\n",
       "2    4.7  3.2  1.3  0.2\n",
       "3    4.6  3.1  1.5  0.2\n",
       "4    5.0  3.6  1.4  0.2\n",
       "..   ...  ...  ...  ...\n",
       "144  6.7  3.3  5.7  2.5\n",
       "145  6.7  3.0  5.2  2.3\n",
       "146  6.3  2.5  5.0  1.9\n",
       "147  6.5  3.0  5.2  2.0\n",
       "148  6.2  3.4  5.4  2.3\n",
       "\n",
       "[149 rows x 4 columns]"
      ]
     },
     "execution_count": 3,
     "metadata": {},
     "output_type": "execute_result"
    }
   ],
   "source": [
    "data = chargerData(\"dataset.txt\")\n",
    "data = classifyData(data)\n",
    "pd.DataFrame(data)"
   ]
  },
  {
   "cell_type": "code",
   "execution_count": 4,
   "metadata": {},
   "outputs": [
    {
     "data": {
      "text/plain": [
       "0.6999999999999993"
      ]
     },
     "execution_count": 4,
     "metadata": {},
     "output_type": "execute_result"
    }
   ],
   "source": [
    "def manhattan(A, B):\n",
    "    return np.sum(np.abs(A - B))\n",
    "manhattan(data[0], data[1])"
   ]
  },
  {
   "cell_type": "code",
   "execution_count": 5,
   "metadata": {},
   "outputs": [
    {
     "data": {
      "text/plain": [
       "0.5385164807134502"
      ]
     },
     "execution_count": 5,
     "metadata": {},
     "output_type": "execute_result"
    }
   ],
   "source": [
    "def euclidean(A, B):\n",
    "    return np.sqrt(np.sum((A - B) ** 2))\n",
    "euclidean(data[0], data[1])"
   ]
  },
  {
   "cell_type": "code",
   "execution_count": 6,
   "metadata": {},
   "outputs": [
    {
     "data": {
      "text/plain": [
       "0.5104468722001463"
      ]
     },
     "execution_count": 6,
     "metadata": {},
     "output_type": "execute_result"
    }
   ],
   "source": [
    "def minkowski(A, B,p=3):\n",
    "    return np.sum(np.abs(A - B) ** p) ** (1 / p)\n",
    "minkowski(data[0], data[1], 3)"
   ]
  },
  {
   "cell_type": "code",
   "execution_count": 7,
   "metadata": {},
   "outputs": [
    {
     "data": {
      "text/plain": [
       "0.0014208364959781283"
      ]
     },
     "execution_count": 7,
     "metadata": {},
     "output_type": "execute_result"
    }
   ],
   "source": [
    "def cosine(A, B):\n",
    "    nom = np.sum(A * B)\n",
    "    denom = np.sqrt(np.sum(A ** 2)) * np.sqrt(np.sum(B ** 2))\n",
    "    return 1 - (nom / denom)\n",
    "cosine(data[0], data[1])"
   ]
  },
  {
   "cell_type": "code",
   "execution_count": 8,
   "metadata": {},
   "outputs": [
    {
     "data": {
      "text/plain": [
       "2"
      ]
     },
     "execution_count": 8,
     "metadata": {},
     "output_type": "execute_result"
    }
   ],
   "source": [
    "def hamming(A,B):\n",
    "    i = 0\n",
    "    for x in range(len(A)):\n",
    "        if A[x] != B[x]:\n",
    "            i += 1\n",
    "    return i\n",
    "hamming(data[0], data[1])"
   ]
  },
  {
   "cell_type": "code",
   "execution_count": 9,
   "metadata": {},
   "outputs": [],
   "source": [
    "def sort(data,new_instance, distance):\n",
    "    # return sorted(data, key=lambda x: distance(x[0], x[1]))\n",
    "    d = []\n",
    "    for i,x in enumerate(data):\n",
    "        d.append([i, distance(x, new_instance)])\n",
    "    d = sorted(d, key=lambda x: x[1])\n",
    "    return d"
   ]
  },
  {
   "cell_type": "code",
   "execution_count": 10,
   "metadata": {},
   "outputs": [
    {
     "name": "stdout",
     "output_type": "stream",
     "text": [
      "[4.5 2.3 1.3 0.3] 1.16\n",
      "[4.9 3.  1.4 0.2] 1.3599999999999999\n",
      "[5.  3.  1.6 0.2] 1.4400000000000004\n",
      "-------------------\n",
      "[5.2 3.5 1.5 0.2] 0.10295630140987007\n",
      "[5.2 3.4 1.4 0.2] 0.1122497216032183\n",
      "[5.1 3.5 1.4 0.2] 0.11224972160321871\n",
      "-------------------\n",
      "[5.2 3.5 1.5 0.2] 0.09487518233801294\n",
      "[5.2 3.4 1.4 0.2] 0.10403499808305595\n",
      "[5.1 3.5 1.4 0.2] 0.10403499808305637\n",
      "-------------------\n",
      "[5.2 3.5 1.5 0.2] 2\n",
      "[5.1 3.5 1.4 0.2] 3\n",
      "[5.1 3.5 1.4 0.3] 3\n"
     ]
    }
   ],
   "source": [
    "def knn(data,instance, k, distance):\n",
    "    res = sort(data, instance, distance)\n",
    "    return res[:k]\n",
    "\n",
    "result1 = knn(data, [5.2,2.0,1.41,0.25], 3, manhattan)\n",
    "for x in result1:\n",
    "    print(data[x[0]], x[1])\n",
    "print('-------------------')\n",
    "result2 = knn(data, [5.2,3.5,1.41,0.25], 3, euclidean)\n",
    "for x in result2:\n",
    "    print(data[x[0]], x[1])\n",
    "print('-------------------')\n",
    "result3 = knn(data, [5.2,3.5,1.41,0.25], 3, minkowski)\n",
    "for x in result3:\n",
    "    print(data[x[0]], x[1])\n",
    "print('-------------------')\n",
    "result4 = knn(data, [5.2,3.5,1.41,0.25], 3, hamming)\n",
    "for x in result4:\n",
    "    print(data[x[0]], x[1])"
   ]
  },
  {
   "cell_type": "markdown",
   "metadata": {},
   "source": [
    "# Apprentissage\n"
   ]
  },
  {
   "cell_type": "code",
   "execution_count": 11,
   "metadata": {},
   "outputs": [],
   "source": [
    "def chargerData2(path):\n",
    "    data = []\n",
    "    with open(path, \"r\") as file:\n",
    "        for line in file:\n",
    "            data.append(line.split(\",\"))\n",
    "    return data\n",
    "\n",
    "\n",
    "def classifyData2(data):\n",
    "    newData = np.array(data)\n",
    "\n",
    "    #remove the last column\n",
    "    # newData = newData[:, :-1]\n",
    "    for line in newData:\n",
    "        #remove the \\n\n",
    "        line[-1] = line[-1][:-1]\n",
    "        if line[-1] == 'Iris-setosa':\n",
    "            line[-1] = 0\n",
    "        elif line[-1] == 'Iris-versicolor':\n",
    "            line[-1] = 1\n",
    "        elif line[-1] == 'Iris-virginica':\n",
    "            line[-1] = 2\n",
    "    return newData[:-1].astype(\"float\")"
   ]
  },
  {
   "cell_type": "code",
   "execution_count": 12,
   "metadata": {},
   "outputs": [],
   "source": [
    "data2 = chargerData('dataset.txt')\n",
    "data2 = classifyData2(data2)"
   ]
  },
  {
   "cell_type": "code",
   "execution_count": 13,
   "metadata": {},
   "outputs": [],
   "source": [
    "#split the data\n",
    "def splitData(data):\n",
    "    #shake the data\n",
    "    classes = {}\n",
    "    for line in data:\n",
    "        if line[-1] not in classes:\n",
    "            classes[line[-1]] = []\n",
    "        classes[line[-1]].append(line)\n",
    "    #shuffle every class\n",
    "    for key in classes:\n",
    "        np.random.shuffle(classes[key])\n",
    "    #split the data\n",
    "    train, test = [], []\n",
    "    for key in classes:\n",
    "        train += classes[key][:int(len(classes[key]) * 0.6)]\n",
    "        test += classes[key][int(len(classes[key]) * 0.6):]\n",
    "    return train, test\n",
    "train, test = splitData(data2)\n"
   ]
  },
  {
   "cell_type": "code",
   "execution_count": 14,
   "metadata": {},
   "outputs": [],
   "source": [
    "#calculate the accuracy with the test data\n",
    "def accuracy(train, test, k, distance):\n",
    "    correct = 0\n",
    "    for x in test:\n",
    "        result = knn(train, x, k, distance)\n",
    "        if x[-1] == train[result[0][0]][-1]:\n",
    "            # print(x, train[result[0][0]])\n",
    "            correct += 1\n",
    "    return correct / len(test)*100\n"
   ]
  },
  {
   "cell_type": "code",
   "execution_count": 16,
   "metadata": {},
   "outputs": [
    {
     "name": "stdout",
     "output_type": "stream",
     "text": [
      "manhattan\n",
      "k= 3 accuracy= 100.0 %\n"
     ]
    },
    {
     "name": "stdout",
     "output_type": "stream",
     "text": [
      "k= 4 accuracy= 100.0 %\n",
      "k= 5 accuracy= 100.0 %\n",
      "k= 6 accuracy= 100.0 %\n",
      "k= 7 accuracy= 100.0 %\n",
      "k= 8 accuracy= 100.0 %\n",
      "k= 9 accuracy= 100.0 %\n",
      "k= 10 accuracy= 100.0 %\n",
      "k= 11 accuracy= 100.0 %\n",
      "k= 12 accuracy= 100.0 %\n",
      "k= 13 accuracy= 100.0 %\n",
      "k= 14 accuracy= 100.0 %\n",
      "-------------------\n",
      "euclidean\n",
      "k= 3 accuracy= 100.0 %\n",
      "k= 4 accuracy= 100.0 %\n",
      "k= 5 accuracy= 100.0 %\n",
      "k= 6 accuracy= 100.0 %\n",
      "k= 7 accuracy= 100.0 %\n",
      "k= 8 accuracy= 100.0 %\n",
      "k= 9 accuracy= 100.0 %\n",
      "k= 10 accuracy= 100.0 %\n",
      "k= 11 accuracy= 100.0 %\n",
      "k= 12 accuracy= 100.0 %\n",
      "k= 13 accuracy= 100.0 %\n",
      "k= 14 accuracy= 100.0 %\n",
      "-------------------\n",
      "minkowski\n",
      "k= 3 accuracy= 100.0 %\n",
      "k= 4 accuracy= 100.0 %\n",
      "k= 5 accuracy= 100.0 %\n",
      "k= 6 accuracy= 100.0 %\n",
      "k= 7 accuracy= 100.0 %\n",
      "k= 8 accuracy= 100.0 %\n",
      "k= 9 accuracy= 100.0 %\n",
      "k= 10 accuracy= 100.0 %\n",
      "k= 11 accuracy= 100.0 %\n",
      "k= 12 accuracy= 100.0 %\n",
      "k= 13 accuracy= 100.0 %\n",
      "k= 14 accuracy= 100.0 %\n",
      "-------------------\n",
      "cosine\n",
      "k= 3 accuracy= 100.0 %\n",
      "k= 4 accuracy= 100.0 %\n",
      "k= 5 accuracy= 100.0 %\n",
      "k= 6 accuracy= 100.0 %\n",
      "k= 7 accuracy= 100.0 %\n",
      "k= 8 accuracy= 100.0 %\n",
      "k= 9 accuracy= 100.0 %\n",
      "k= 10 accuracy= 100.0 %\n",
      "k= 11 accuracy= 100.0 %\n",
      "k= 12 accuracy= 100.0 %\n",
      "k= 13 accuracy= 100.0 %\n",
      "k= 14 accuracy= 100.0 %\n",
      "-------------------\n",
      "hamming\n",
      "k= 3 accuracy= 93.33333333333333 %\n",
      "k= 4 accuracy= 93.33333333333333 %\n",
      "k= 5 accuracy= 93.33333333333333 %\n",
      "k= 6 accuracy= 93.33333333333333 %\n",
      "k= 7 accuracy= 93.33333333333333 %\n",
      "k= 8 accuracy= 93.33333333333333 %\n",
      "k= 9 accuracy= 93.33333333333333 %\n",
      "k= 10 accuracy= 93.33333333333333 %\n",
      "k= 11 accuracy= 93.33333333333333 %\n",
      "k= 12 accuracy= 93.33333333333333 %\n",
      "k= 13 accuracy= 93.33333333333333 %\n",
      "k= 14 accuracy= 93.33333333333333 %\n"
     ]
    }
   ],
   "source": [
    "print('manhattan')\n",
    "for k in range(3, 15):\n",
    "    acc = accuracy(train, test, k, manhattan)\n",
    "    print('k=', k, 'accuracy=', acc, '%')\n",
    "print('-------------------')\n",
    "print('euclidean')\n",
    "for k in range(3, 15):\n",
    "    acc = accuracy(train, test, k, euclidean)\n",
    "    print('k=', k, 'accuracy=', acc, '%')\n",
    "print('-------------------')\n",
    "print('minkowski')\n",
    "for k in range(3, 15):\n",
    "    acc = accuracy(train, test, k, minkowski)\n",
    "    print('k=', k, 'accuracy=', acc, '%')\n",
    "print('-------------------')\n",
    "print('cosine')\n",
    "for k in range(3, 15):\n",
    "    acc = accuracy(train, test, k, cosine)\n",
    "    print('k=', k, 'accuracy=', acc, '%')\n",
    "print('-------------------')\n",
    "print('hamming')\n",
    "for k in range(3, 15):\n",
    "    acc = accuracy(train, test, k, hamming)\n",
    "    print('k=', k, 'accuracy=', acc, '%')"
   ]
  }
 ],
 "metadata": {
  "kernelspec": {
   "display_name": "Python 3",
   "language": "python",
   "name": "python3"
  },
  "language_info": {
   "codemirror_mode": {
    "name": "ipython",
    "version": 3
   },
   "file_extension": ".py",
   "mimetype": "text/x-python",
   "name": "python",
   "nbconvert_exporter": "python",
   "pygments_lexer": "ipython3",
   "version": "3.8.10"
  }
 },
 "nbformat": 4,
 "nbformat_minor": 2
}
